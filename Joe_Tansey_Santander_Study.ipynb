{
 "cells": [
  {
   "cell_type": "markdown",
   "metadata": {},
   "source": [
    "### Introduction and data load\n",
    "\n",
    "This is the Satander product recommendation Kaggle challenge. 1.5 years of customer data is available. The task is to relate customer features up to May 2016 to predict June 2016 product ownership.\n",
    "\n",
    "For ease of interpretation, I've converted most of the feature space from Spanish to English. However, the product names will remain in Spanish to maintain compatability with Kaggle's submission-scoring system."
   ]
  },
  {
   "cell_type": "code",
   "execution_count": 1,
   "metadata": {},
   "outputs": [],
   "source": [
    "import pandas as pd\n",
    "import numpy as np\n",
    "import matplotlib.pyplot as plt\n",
    "from sklearn.model_selection import train_test_split\n",
    "from sklearn.preprocessing import Imputer\n",
    "from sklearn.linear_model import LogisticRegression\n",
    "from sklearn.multiclass import OneVsRestClassifier\n",
    "import xgboost as xgb\n",
    "from helper_functions import *\n",
    "%load_ext autoreload\n",
    "%autoreload 2"
   ]
  },
  {
   "cell_type": "code",
   "execution_count": 2,
   "metadata": {
    "scrolled": false
   },
   "outputs": [
    {
     "name": "stderr",
     "output_type": "stream",
     "text": [
      "D:\\Users\\joeft\\Anaconda3\\envs\\fastai\\lib\\site-packages\\IPython\\core\\interactiveshell.py:2785: DtypeWarning: Columns (5,8,11) have mixed types. Specify dtype option on import or set low_memory=False.\n",
      "  interactivity=interactivity, compiler=compiler, result=result)\n"
     ]
    }
   ],
   "source": [
    "dtype = {'conyuemp': 'object'}\n",
    "parse_dates = ['fecha_dato', 'fecha_alta', 'ult_fec_cli_1t']\n",
    "\n",
    "df_train = pd.read_csv('train_ver2.csv', dtype=dtype, parse_dates=parse_dates)\n",
    "df_holdout = pd.read_csv('test_ver2.csv', dtype= dtype, parse_dates=parse_dates)"
   ]
  },
  {
   "cell_type": "code",
   "execution_count": 3,
   "metadata": {},
   "outputs": [],
   "source": [
    "product_column_names = list(df_train.loc[:, 'ind_ahor_fin_ult1':'ind_recibo_ult1'].columns)\n",
    "spanish_to_english_features = {'fecha_dato': 'date',\n",
    "                              'ncodpers': 'customer_code',\n",
    "                              'ind_empleado': 'employee_index',\n",
    "                              'pais_residencia': 'country_of_residence',\n",
    "                              'sexo': 'gender',\n",
    "                              'age': 'age',\n",
    "                              'fecha_alta': 'initiation_date',\n",
    "                              'ind_nuevo': 'is_new_customer',\n",
    "                              'antiguedad': 'customer_seniority',\n",
    "                              'indrel': 'is_primary_customer',\n",
    "                              'ult_fec_cli_1t': 'last_date_as_customer',\n",
    "                              'indrel_1mes': 'customer_type_1m',\n",
    "                              'tiprel_1mes': 'customer_relation_1m',\n",
    "                              'indresi': 'is_local_resident',\n",
    "                              'indext': 'is_foreigner',\n",
    "                              'conyuemp': 'is_spouse_of_employee',\n",
    "                              'canal_entrada': 'channel_used_to_join',\n",
    "                              'indfall': 'is_deceased',\n",
    "                              'tipodom': 'address_type',\n",
    "                              'cod_prov': 'province_code',\n",
    "                              'nomprov': 'province_name',\n",
    "                              'ind_actividad_cliente': 'activity_index',\n",
    "                              'renta': 'gross_household_income',\n",
    "                              'segmento': 'college_education',                           \n",
    "                              }\n",
    "\n",
    "df_train.rename(columns = spanish_to_english_features, inplace=True)\n",
    "df_holdout.rename(columns = spanish_to_english_features, inplace=True)\n"
   ]
  },
  {
   "cell_type": "markdown",
   "metadata": {},
   "source": [
    "## Exploratory Data Analysis:\n",
    "\n",
    "EDA is difficult with 24 different products. Fortunately, many of them are extremely rarely purchased (gaurantees, med/short term deposits, savings accounts). The most common product purchased is 'ind_recibo_ult1', or a direct debit account, opened at ~1% rate between months. Pensions, payroll, credit card, and current accounts are also common.\n",
    "\n",
    "Here, EDA could be done forever. But let's test some simple hypotheses to see what kind of features might be useful.\n",
    "\n",
    "### Which date to train on?\n",
    "\n",
    "The goal is to predict ownership of new products in June, 2016. The most recent feature-target space available is May, 2016. However, seasonal trends may hurt generalization of this model. Alternatively, since 1.5 years of data are available, June 2015 could by hypothesized to better reflect the behaviour of June 2016.\n",
    "\n",
    "Overall, I tried both. My score using May, 2016 was 0.024, while using June 2015 gave 0.029. Let's see if we can find out if there are significant seasonal trends that explain this difference.\n",
    "\n",
    "For the training set, we need to be more careful, but here I'll perform and inner join between date-pairs (dropping some customers) and also drop the very small number of null values for product ownership.\n",
    "\n",
    "Three date ranges are compared:\n",
    "1. April-May 2015\n",
    "2. April-May 2016\n",
    "3. May-June 2015"
   ]
  },
  {
   "cell_type": "code",
   "execution_count": 4,
   "metadata": {},
   "outputs": [
    {
     "data": {
      "image/png": "[encoded data removed]",
      "text/plain": [
       "<Figure size 864x144 with 1 Axes>"
      ]
     },
     "metadata": {},
     "output_type": "display_data"
    }
   ],
   "source": [
    "dates = [('2015-04-28','2015-05-28'), ('2016-04-28','2016-05-28'), ('2015-05-28', '2015-06-28')]\n",
    "frequencies = []\n",
    "product_cols = df_train.loc[0:1,'ind_ahor_fin_ult1':'ind_recibo_ult1'].columns\n",
    "\n",
    "for date in dates:\n",
    "    df_time_delta = pd.merge(df_train[df_train['date']==date[0]], \n",
    "                                df_train[df_train['date']==date[1]], \n",
    "                                on = 'customer_code', how = 'inner',\n",
    "                                suffixes=('', '_future'))\n",
    "    target = df_time_delta[product_cols + '_future'].values - df_time_delta[product_cols].values\n",
    "    target = target[~np.isnan(target).any(axis=1)]\n",
    "    target = np.where(np.less(target,0), 0, target)\n",
    "    frequencies.append(np.sum(target, axis = 0)/target.shape[0])\n",
    "    \n",
    "    \n",
    "ind = np.arange(target.shape[1])\n",
    "fig, ax = plt.subplots(figsize = (12,2))\n",
    "rects1 = ax.bar(ind, frequencies[0], 0.25, color='r')\n",
    "rects2 = ax.bar(ind + 0.25, frequencies[1], 0.25, color='y')\n",
    "rects3 = ax.bar(ind + 0.5, frequencies[2], 0.25, color='b')\n",
    "ax.legend((rects1[0], rects2[0], rects3[0]), ('April May 2015', 'April May 2016', 'May June 2015'))\n",
    "ax.set_xticks(ind + 0.5 / 2)\n",
    "ax.set_xticklabels(product_cols)\n",
    "plt.xticks(rotation=90)\n",
    "plt.ylabel('new product purchase freq')\n",
    "plt.show()"
   ]
  },
  {
   "cell_type": "markdown",
   "metadata": {},
   "source": [
    "This chart is trying to answer whether seasonal trends or yearly trends are more important. In general, differences between April-May in 2015/2016 (red/yellow) are small. However, May-June (blue) shows significantly higher purchase frequencies for several products, indicating that seasonal trends dominate. I am still glad I tested models built from both periods, but this supports my final approach of training on May-June 2015.\n",
    "\n",
    "## Feature engineering\n",
    "\n",
    "Most of the feature engineering is done from functions imported from helper_functions.py. The function below generated a feature space from month N, and target space from month N+1. Note that target space is the positive difference in products owned in N+1 and N. Products owned in months in and before N are fair game, and indeed constitute some of the most important features.\n",
    "\n",
    "Several boolean columns have 'S' or 'N', which are converted to 1/0. Other columns have strange values for NaN (ex: '     NA'). Still other categorical features have hundreds of categories, and limiting these to the top ~10 categories is useful to reduce feature space dimensionality. "
   ]
  },
  {
   "cell_type": "code",
   "execution_count": 5,
   "metadata": {},
   "outputs": [
    {
     "name": "stderr",
     "output_type": "stream",
     "text": [
      "D:\\kaggle\\satander\\helper_functions.py:38: RuntimeWarning: invalid value encountered in greater_equal\n",
      "  y = pd.DataFrame(np.where(dy>=0, dy, 0), columns=y_present.columns)\n"
     ]
    }
   ],
   "source": [
    "X, y = variable_transforms(df_train, '2015-05-28', '2015-06-28', 6)\n",
    "eda_df = pd.concat([X, y.add_suffix('_future')], axis=1)"
   ]
  },
  {
   "cell_type": "markdown",
   "metadata": {},
   "source": [
    "##### Gross household income\n",
    "\n",
    "This is one of the most obvious financial features available. Unfortunately, about 1/4th of the gross household income values are null. For non-null incomes, there is a moderate trend towards purchasing direct debit accounts. Additionally, the null-valued incomes purchase debit accounts at a higher rate, indicating preditive value of this feature."
   ]
  },
  {
   "cell_type": "code",
   "execution_count": 6,
   "metadata": {},
   "outputs": [
    {
     "name": "stdout",
     "output_type": "stream",
     "text": [
      "purchase rate for null income: 0.0117\n",
      "purchase rate for nonnull income: 0.0149\n"
     ]
    },
    {
     "data": {
      "image/png": "[encoded data removed]",
      "text/plain": [
       "<Figure size 432x288 with 1 Axes>"
      ]
     },
     "metadata": {},
     "output_type": "display_data"
    }
   ],
   "source": [
    "rate_null = eda_df[eda_df['gross_household_income'].isnull()]['ind_recibo_ult1_future'].sum()/eda_df['gross_household_income'].isnull().sum()\n",
    "rate_nonnull = eda_df[eda_df['gross_household_income'].notnull()]['ind_recibo_ult1_future'].sum()/eda_df['gross_household_income'].notnull().sum()\n",
    "print('purchase rate for null income: {}\\npurchase rate for nonnull income: {}'.format(round(rate_null,4), round(rate_nonnull,4)))\n",
    "eda_df.groupby(pd.cut(eda_df['gross_household_income']/1e3, np.arange(0, 2e3, 1e2)))['ind_recibo_ult1_future'].mean().plot.bar()\n",
    "plt.show()"
   ]
  },
  {
   "cell_type": "markdown",
   "metadata": {},
   "source": [
    "#####  Age and pensions:\n",
    "\n",
    "We expect there to be a positive relationship between age and pension product acquisition. The 30+ group gets a pension product most frequently, although this drops off with age. The interpretation here is pensions are primarily purchased by those at the beginning-of-the-end of careers. Due to the \"U\" relationship between age and purchases, logistic regression won't get much use out of this feature. A new engineered field (ex: age_dist_from_30) could help to linearize the relationship, but I plan to use decision tree methods for my final result."
   ]
  },
  {
   "cell_type": "code",
   "execution_count": 7,
   "metadata": {
    "scrolled": true
   },
   "outputs": [
    {
     "data": {
      "image/png": "[encoded data removed]",
      "text/plain": [
       "<Figure size 432x288 with 1 Axes>"
      ]
     },
     "metadata": {},
     "output_type": "display_data"
    }
   ],
   "source": [
    "eda_df.groupby(pd.cut(pd.to_numeric(eda_df['age'], errors = 'coerce'), np.arange(0, 100, 5)))['ind_nom_pens_ult1_future'].mean().plot.bar()\n",
    "plt.show()"
   ]
  },
  {
   "cell_type": "markdown",
   "metadata": {},
   "source": [
    "#####  Country of residence:\n",
    "\n",
    "During data cleaning, I created a new column with 0 or 1 to signify whether a customer was local to Spain. Luckily, locals appear to purchase new debit accounts at twice the rate compared to foreign residents. \n",
    "\n",
    "The difference persists for other banking products. However, there is limited utility in exploring this feature since 99.5% of residents are local. "
   ]
  },
  {
   "cell_type": "code",
   "execution_count": 8,
   "metadata": {
    "scrolled": true
   },
   "outputs": [
    {
     "data": {
      "text/plain": [
       "local_residence\n",
       "0    0.005604\n",
       "1    0.014432\n",
       "Name: ind_recibo_ult1_future, dtype: float64"
      ]
     },
     "execution_count": 8,
     "metadata": {},
     "output_type": "execute_result"
    }
   ],
   "source": [
    "eda_df.groupby('local_residence')['ind_recibo_ult1_future'].mean()"
   ]
  },
  {
   "cell_type": "markdown",
   "metadata": {},
   "source": [
    "##### Customer gender\n",
    "\n",
    "Rate of debit account purchases varies reliably with gender."
   ]
  },
  {
   "cell_type": "code",
   "execution_count": 9,
   "metadata": {
    "scrolled": true
   },
   "outputs": [
    {
     "data": {
      "text/plain": [
       "gender\n",
       "0    0.011380\n",
       "1    0.016815\n",
       "Name: ind_recibo_ult1_future, dtype: float64"
      ]
     },
     "execution_count": 9,
     "metadata": {},
     "output_type": "execute_result"
    }
   ],
   "source": [
    "eda_df.groupby('gender')['ind_recibo_ult1_future'].mean()"
   ]
  },
  {
   "cell_type": "markdown",
   "metadata": {},
   "source": [
    "##### Activity index: \n",
    "\n",
    "Another boolean column, active customers are significantly more likely to purchase a debit account. "
   ]
  },
  {
   "cell_type": "code",
   "execution_count": 10,
   "metadata": {
    "scrolled": true
   },
   "outputs": [
    {
     "data": {
      "text/plain": [
       "activity_index\n",
       "0.0    0.001091\n",
       "1.0    0.025299\n",
       "Name: ind_recibo_ult1_future, dtype: float64"
      ]
     },
     "execution_count": 10,
     "metadata": {},
     "output_type": "execute_result"
    }
   ],
   "source": [
    "eda_df.groupby('activity_index')['ind_recibo_ult1_future'].mean()"
   ]
  },
  {
   "cell_type": "markdown",
   "metadata": {},
   "source": [
    "##### College education:\n",
    "\n",
    "Increasing level of education seems to decrease likelihood of product purchase. There are null values, but they make up less than 1% of entries."
   ]
  },
  {
   "cell_type": "code",
   "execution_count": 11,
   "metadata": {
    "scrolled": true
   },
   "outputs": [
    {
     "data": {
      "text/plain": [
       "college_education\n",
       "01 - TOP              0.024221\n",
       "02 - PARTICULARES     0.018068\n",
       "03 - UNIVERSITARIO    0.007077\n",
       "Name: ind_recibo_ult1_future, dtype: float64"
      ]
     },
     "execution_count": 11,
     "metadata": {},
     "output_type": "execute_result"
    }
   ],
   "source": [
    "eda_df.groupby('college_education')['ind_recibo_ult1_future'].mean()"
   ]
  },
  {
   "cell_type": "markdown",
   "metadata": {},
   "source": [
    "## Data cleaning and model evaluation\n",
    "\n",
    "The basic workflow is:\n",
    "\n",
    "1. Perform a train-test split on the data\n",
    "2. Impute null or missing values by using medians from the training set (avg not appropriate for 0/1 columns)\n",
    "3. Fit the model on the training set\n",
    "4. Evaluate on testing set\n",
    "5. Repeat with different features and models until a good result is reached\n",
    "\n",
    "Evaluation is done using \"Mean Average Precision @ 7\". I found [Kaggle's explanation](https://www.kaggle.com/c/santander-product-recommendation#evaluation) to be confusing, likely because many of the terms are left undefined. Luckily, [this blog post](https://medium.com/@pds.bangalore/mean-average-precision-abd77d0b9a7e) explains what they meant in more detail. Qualitatively, the metric asks for your top 7 predictions in order of likelihood. The score is higher if the true purchased products are in your list, and if your list ranks them near the top.\n",
    "\n",
    "Winning scores were around MAP@7 = 0.03 (higher is better).\n",
    "\n",
    "The final feature space used below was arrived at after a few iterations. Features were tested and evaluated as significant based on change in model score, as well as the built-in feature_importances_ metric that is common to decision tree modules.\n",
    "\n",
    "Continuous features can be used as-is. Categorical variables must be one-hot-encoded - i.e., spread across several boolean columns.\n",
    "\n",
    "We keep track of products already owned so that we can mask out predicted probabilities in the final recommendation. Furthermore, some products are so uncommonly purchased that a train-test-split often leaves 0 positive examples in the training set. These products are dropped, as no training can be done on them. This typically drops ~3 products."
   ]
  },
  {
   "cell_type": "code",
   "execution_count": 12,
   "metadata": {
    "scrolled": true
   },
   "outputs": [],
   "source": [
    "continuous_vars = ['gross_household_income', \n",
    "                   'age', \n",
    "                   'gender', \n",
    "                   'customer_seniority',\n",
    "                   'is_foreigner',\n",
    "                   'activity_index',\n",
    "                   'income_isnull',\n",
    "                   'local_residence'\n",
    "                  ]\n",
    "cat_vars = ['college_education']\n",
    "dummies = pd.get_dummies(X[cat_vars])\n",
    "X = pd.concat([X.drop(cat_vars, axis = 1), dummies], axis = 1)\n",
    "past_owned_columns = X.loc[:,'ind_ahor_fin_ult1_past_owned':'ind_recibo_ult1_past_owned'].columns"
   ]
  },
  {
   "cell_type": "code",
   "execution_count": 13,
   "metadata": {},
   "outputs": [],
   "source": [
    "feature_space = continuous_vars + list(dummies.columns) + list(past_owned_columns)\n",
    "X_train, X_test, y_train, y_test = train_test_split(X, y, test_size=0.25, random_state=1)\n",
    "products_owned_train = X_train.loc[:,'ind_ahor_fin_ult1':'ind_recibo_ult1']\n",
    "products_owned_test = X_test.loc[:,'ind_ahor_fin_ult1':'ind_recibo_ult1']"
   ]
  },
  {
   "cell_type": "code",
   "execution_count": 14,
   "metadata": {},
   "outputs": [],
   "source": [
    "products_with_no_training_examples = y_train.columns[y_train.mean() == 0]\n",
    "y_train = y_train.drop(products_with_no_training_examples, axis = 1)\n",
    "y_test = y_test.drop(products_with_no_training_examples, axis = 1)\n",
    "products_owned_train = products_owned_train.drop(products_with_no_training_examples, axis = 1)\n",
    "products_owned_test = products_owned_test.drop(products_with_no_training_examples, axis = 1)\n",
    "products_owned_columns = list(products_owned_train.columns)\n",
    "feature_space += products_owned_columns\n",
    "\n",
    "X_train = X_train[feature_space]\n",
    "X_test = X_test[feature_space]\n",
    "\n",
    "imputer = Imputer(strategy='median')\n",
    "X_train = imputer.fit_transform(X_train)\n",
    "X_test = imputer.transform(X_test)"
   ]
  },
  {
   "cell_type": "markdown",
   "metadata": {},
   "source": [
    "Gradient boosted decision trees are chosen to predict new product ownership (classification). Logistic regression was tried, but scored below 0.02 MAP@7. I briefly considered using matrix factorization methods (SVD, NMF), but the width of the product ownership matrix is only 24. I don't think it would perform well, but I haven't tested it.\n",
    "\n",
    "A one-vs-rest classifier was used, which trains an independent estimator for each class. This improves the interpretability of the model and yields reasonable computation speed.\n",
    "\n",
    "Probabilities for each class are predicted, and products already owned are masked out. The probabilities are then sorted to return the top 7 guesses for which product a customer will buy in the N+1th month!"
   ]
  },
  {
   "cell_type": "code",
   "execution_count": 15,
   "metadata": {},
   "outputs": [
    {
     "name": "stdout",
     "output_type": "stream",
     "text": [
      "MAP@7 score: 0.0457\n"
     ]
    }
   ],
   "source": [
    "tree_mod = xgb.XGBClassifier(n_estimators = 50, max_depth = 3, learning_rate=0.2)\n",
    "classifier_tree = OneVsRestClassifier(tree_mod, n_jobs = -2) \n",
    "classifier_tree.fit(X_train, y_train)\n",
    "y_pred_proba = classifier_tree.predict_proba(X_test)\n",
    "y_pred_proba = y_pred_proba*(1-products_owned_test.values) # set p=0 for products owned\n",
    "print('MAP@7 score: {}'.format(round(mean_avg_precision_at_7(y_test, y_pred_proba),4)))"
   ]
  },
  {
   "cell_type": "markdown",
   "metadata": {},
   "source": [
    "Average feature importance over all estimators is displayed below. In decision tree methods, feature importance is the normalized increase in purity from splits done on that feature. \n",
    "\n",
    "While customer seniority, age, and household income are all great predictive features, including present and past ownership of products is what gave the model a large gain in performance. While the importance scores are medium/low, there are ~21 different columns for the products \"feature\"."
   ]
  },
  {
   "cell_type": "code",
   "execution_count": 16,
   "metadata": {},
   "outputs": [
    {
     "name": "stdout",
     "output_type": "stream",
     "text": [
      "customer_seniority 0.194\n",
      "age 0.113\n",
      "gross_household_income 0.089\n",
      "activity_index 0.066\n",
      "ind_recibo_ult1 0.034\n",
      "ind_cno_fin_ult1 0.028\n",
      "ind_cco_fin_ult1 0.025\n",
      "ind_dela_fin_ult1 0.023\n",
      "college_education_01 - TOP 0.021\n",
      "ind_tjcr_fin_ult1 0.021\n",
      "ind_nom_pens_ult1 0.02\n",
      "ind_cder_fin_ult1_past_owned 0.02\n",
      "ind_ecue_fin_ult1 0.019\n",
      "ind_viv_fin_ult1_past_owned 0.019\n",
      "ind_nomina_ult1 0.019\n",
      "ind_tjcr_fin_ult1_past_owned 0.019\n",
      "ind_dela_fin_ult1_past_owned 0.017\n",
      "ind_pres_fin_ult1_past_owned 0.015\n",
      "ind_valo_fin_ult1 0.014\n",
      "ind_nom_pens_ult1_past_owned 0.013\n"
     ]
    }
   ],
   "source": [
    "estimators = classifier_tree.estimators_\n",
    "feat_imps = [estimator.feature_importances_ for estimator in estimators]\n",
    "feat_imps = [imps for imps in feat_imps if not np.any(np.isnan(imps))]\n",
    "feat_imps = np.mean(feat_imps, axis = 0)\n",
    "idx_importance = np.argsort(feat_imps)[::-1]\n",
    "\n",
    "for idx in idx_importance[:20]:\n",
    "    print(feature_space[idx], round(feat_imps[idx],3))"
   ]
  },
  {
   "cell_type": "markdown",
   "metadata": {
    "scrolled": true
   },
   "source": [
    "## Final prediction\n",
    "\n",
    "First, the model is re-trained on the entire training set."
   ]
  },
  {
   "cell_type": "code",
   "execution_count": 17,
   "metadata": {},
   "outputs": [
    {
     "data": {
      "text/plain": [
       "OneVsRestClassifier(estimator=XGBClassifier(base_score=0.5, booster='gbtree', colsample_bylevel=1,\n",
       "       colsample_bytree=1, gamma=0, learning_rate=0.2, max_delta_step=0,\n",
       "       max_depth=3, min_child_weight=1, missing=None, n_estimators=50,\n",
       "       n_jobs=1, nthread=None, objective='binary:logistic', random_state=0,\n",
       "       reg_alpha=0, reg_lambda=1, scale_pos_weight=1, seed=None,\n",
       "       silent=True, subsample=1),\n",
       "          n_jobs=-2)"
      ]
     },
     "execution_count": 17,
     "metadata": {},
     "output_type": "execute_result"
    }
   ],
   "source": [
    "X_train_final = np.concatenate((X_train,X_test), axis=0)\n",
    "y_train_final = np.concatenate((y_train, y_test), axis = 0)\n",
    "classifier_tree.fit(X_train_final, y_train_final)"
   ]
  },
  {
   "cell_type": "markdown",
   "metadata": {},
   "source": [
    "The goal is to predict new product ownership in June 2016. Contemporary demographic and customer information is available for June, but not product ownership. Past product ownership is pulled from the training dataset, May 2016."
   ]
  },
  {
   "cell_type": "code",
   "execution_count": 18,
   "metadata": {},
   "outputs": [],
   "source": [
    "X_holdout = variable_transforms_no_future(df_holdout, df_train, '2016-06-28', 6)"
   ]
  },
  {
   "cell_type": "code",
   "execution_count": 19,
   "metadata": {},
   "outputs": [],
   "source": [
    "dummies = pd.get_dummies(X_holdout[cat_vars])\n",
    "X_holdout.drop(cat_vars, axis = 1, inplace = True)\n",
    "X_holdout = pd.concat([X_holdout, dummies], axis = 1)\n",
    "products_owned_holdout = X_holdout.loc[:,'ind_ahor_fin_ult1':'ind_recibo_ult1']\n",
    "customer_code_holdout = X_holdout['customer_code']\n",
    "products_owned_holdout = products_owned_holdout.drop(products_with_no_training_examples, axis = 1)\n",
    "X_holdout = X_holdout[feature_space]\n",
    "X_holdout = imputer.transform(X_holdout)\n",
    "y_holdout_pred_proba = classifier_tree.predict_proba(X_holdout)\n",
    "y_holdout_pred_proba = y_holdout_pred_proba*(1-products_owned_holdout.values)"
   ]
  },
  {
   "cell_type": "code",
   "execution_count": 20,
   "metadata": {},
   "outputs": [],
   "source": [
    "prod_names = y_train.columns\n",
    "predictions = np.fliplr(np.argsort(y_holdout_pred_proba, axis = 1))\n",
    "predictions = predictions[:,:7]\n",
    "final_predictions = pd.DataFrame(columns=['ncodpers', 'added_products'])\n",
    "final_predictions['added_products'] = list(y_train.columns[predictions])\n",
    "final_predictions['added_products'] = final_predictions['added_products'].apply(lambda x: \" \".join(x))\n",
    "final_predictions['ncodpers'] = customer_code_holdout"
   ]
  },
  {
   "cell_type": "code",
   "execution_count": 21,
   "metadata": {},
   "outputs": [],
   "source": [
    "final_predictions.to_csv('JT_june_2016_predictions_final.csv', index = False)"
   ]
  },
  {
   "cell_type": "markdown",
   "metadata": {},
   "source": [
    "The csv can be submitted to the [Kaggle leaderboard](https://www.kaggle.com/c/santander-product-recommendation/leaderboard) for this competition. I got 0.0292 MAP@7, which is pretty good for a few days work!\n",
    "\n",
    "![Kaggle submission](kaggle_screencap.PNG)\n",
    "\n",
    "The winning scores are all about 0.031 MAP@7. I am no expert Kaggler, but these scores are typically reached over the course of weeks, making small tweeks to the model to eek out the extra points. If I were to continue this assignment, I would take a much harder look at feature engineering, and definitely re-investigate my major assumption that May-June 2015 is the best training set. It's possible that yearly trends could be incorporated somehow to better predict June 2016. Yearly trends probably explain the difference between MAP@7 = 0.045 in training, and 0.029 in testing.\n",
    "\n",
    "If you read this far, thanks! I had fun, and definitely learned never to underestimate nuances in time-series data."
   ]
  }
 ],
 "metadata": {
  "kernelspec": {
   "display_name": "Python 3",
   "language": "python",
   "name": "python3"
  },
  "language_info": {
   "codemirror_mode": {
    "name": "ipython",
    "version": 3
   },
   "file_extension": ".py",
   "mimetype": "text/x-python",
   "name": "python",
   "nbconvert_exporter": "python",
   "pygments_lexer": "ipython3",
   "version": "3.6.5"
  }
 },
 "nbformat": 4,
 "nbformat_minor": 2
}
